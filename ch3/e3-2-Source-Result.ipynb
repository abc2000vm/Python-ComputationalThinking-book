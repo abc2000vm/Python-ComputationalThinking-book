{
 "cells": [
  {
   "cell_type": "code",
   "execution_count": 1,
   "metadata": {},
   "outputs": [
    {
     "name": "stdout",
     "output_type": "stream",
     "text": [
      "95\n",
      "7\n",
      "255\n",
      "<class 'int'>\n",
      "<class 'int'>\n"
     ]
    }
   ],
   "source": [
    "print(0o137)\n",
    "print(0b111)\n",
    "print(0xff)\n",
    "print(type(28346283742874))\n",
    "print(type(0o137))"
   ]
  },
  {
   "cell_type": "code",
   "execution_count": 2,
   "metadata": {},
   "outputs": [
    {
     "name": "stdout",
     "output_type": "stream",
     "text": [
      "<class 'int'>\n",
      "<class 'float'>\n",
      "0.000899\n",
      "<class 'float'>\n",
      "21.904761904761905\n"
     ]
    }
   ],
   "source": [
    "print(type(12))\n",
    "print(type(12.0))\n",
    "print(8.99e-4)\n",
    "print(type( 1.2e1))\n",
    "print(23/1.05)"
   ]
  },
  {
   "cell_type": "code",
   "execution_count": 3,
   "metadata": {},
   "outputs": [
    {
     "name": "stdout",
     "output_type": "stream",
     "text": [
      "<class 'bool'>\n",
      "False\n",
      "True\n"
     ]
    }
   ],
   "source": [
    "print(type(True))\n",
    "x,y= 10,20\n",
    "print(x>y)\n",
    "print(x+ 10 <=  y)"
   ]
  },
  {
   "cell_type": "code",
   "execution_count": 4,
   "metadata": {},
   "outputs": [
    {
     "name": "stdout",
     "output_type": "stream",
     "text": [
      "(4.23+8.5j)\n",
      "4.23\n",
      "8.5\n",
      "(4.23-8.5j)\n"
     ]
    }
   ],
   "source": [
    "aComplex = 4.23 + 8.5j\n",
    "print(aComplex)\n",
    "print(aComplex.real) # num.real 返回複數的實數部分\n",
    "print(aComplex.imag)  # num.imag 返回複數的虛數部分\n",
    "print(aComplex.conjugate())  # num.conjugate( )返回複數的共軛複數"
   ]
  },
  {
   "cell_type": "code",
   "execution_count": 5,
   "metadata": {},
   "outputs": [
    {
     "name": "stdout",
     "output_type": "stream",
     "text": [
      "381.7035074111598\n"
     ]
    }
   ],
   "source": [
    "import math\n",
    "print(4  *  (math.pi  * 4.5  * 4.5  * 4.5)/3)"
   ]
  },
  {
   "cell_type": "code",
   "execution_count": 6,
   "metadata": {},
   "outputs": [
    {
     "name": "stdout",
     "output_type": "stream",
     "text": [
      "2.6666666666666665\n",
      "2\n"
     ]
    }
   ],
   "source": [
    "x= 8\n",
    "y= 3\n",
    "print(x/y)\n",
    "print(x//y)"
   ]
  },
  {
   "cell_type": "code",
   "execution_count": 7,
   "metadata": {},
   "outputs": [
    {
     "name": "stdout",
     "output_type": "stream",
     "text": [
      "5.428571428571429\n",
      "5.0\n"
     ]
    }
   ],
   "source": [
    "x= 3.8\n",
    "y= 0.7\n",
    "print(x/y)\n",
    "print(x//y)"
   ]
  },
  {
   "cell_type": "code",
   "execution_count": 8,
   "metadata": {},
   "outputs": [
    {
     "name": "stdout",
     "output_type": "stream",
     "text": [
      "True\n"
     ]
    }
   ],
   "source": [
    "x= 834\n",
    "print( x % 2 == 0)"
   ]
  },
  {
   "cell_type": "code",
   "execution_count": 9,
   "metadata": {},
   "outputs": [
    {
     "name": "stdout",
     "output_type": "stream",
     "text": [
      "True\n",
      "False\n",
      "20\n"
     ]
    }
   ],
   "source": [
    "print(20 == 20)\n",
    "#20= 20\n",
    "x,y= 10,20\n",
    "print(x== y )\n",
    "x= y\n",
    "print(x)"
   ]
  },
  {
   "cell_type": "code",
   "execution_count": 10,
   "metadata": {},
   "outputs": [
    {
     "name": "stdout",
     "output_type": "stream",
     "text": [
      "True\n"
     ]
    }
   ],
   "source": [
    "a,b,c = 10,20,30\n",
    "print(a<= b<= c)"
   ]
  },
  {
   "cell_type": "code",
   "execution_count": 11,
   "metadata": {},
   "outputs": [
    {
     "name": "stdout",
     "output_type": "stream",
     "text": [
      "True\n"
     ]
    }
   ],
   "source": [
    "a,b,c = 10,20,30\n",
    "print(a<= b<= c)"
   ]
  },
  {
   "cell_type": "code",
   "execution_count": 12,
   "metadata": {},
   "outputs": [
    {
     "name": "stdout",
     "output_type": "stream",
     "text": [
      "False\n",
      "True\n",
      "True\n"
     ]
    }
   ],
   "source": [
    "y = 2010\n",
    "print (y % 4 == 0 and  y % 100 !=0  or(y % 400 == 0))\n",
    "y = 2012 #符合第一個條件\n",
    "print(y % 4 == 0 and  y % 100 !=0  or(y % 400 == 0))\n",
    "y= 2000 #符合第二個條件\n",
    "print(y % 4 == 0 and  y % 100 !=0  or(y % 400 == 0))"
   ]
  },
  {
   "cell_type": "code",
   "execution_count": 13,
   "metadata": {},
   "outputs": [
    {
     "name": "stdout",
     "output_type": "stream",
     "text": [
      "5.0\n",
      "<class 'float'>\n"
     ]
    }
   ],
   "source": [
    "print(3.0+  2)\n",
    "print(type(3.0+ 2))"
   ]
  },
  {
   "cell_type": "code",
   "execution_count": 14,
   "metadata": {},
   "outputs": [
    {
     "name": "stdout",
     "output_type": "stream",
     "text": [
      "12.5\n",
      "(23+12.5j)\n"
     ]
    }
   ],
   "source": [
    "x,y= 23,12#變數 x，y 的值為整數 23 和 12\n",
    "y= float(y) + 0.5#強制轉換 y 的值為 12.0 參加浮點運算\n",
    "print(y)\n",
    "print(complex(x,y))"
   ]
  },
  {
   "cell_type": "code",
   "execution_count": 15,
   "metadata": {},
   "outputs": [
    {
     "name": "stdout",
     "output_type": "stream",
     "text": [
      "123\n",
      "78\n",
      "The  value of  x  is 32.5 and  y is40000...\n",
      "78.35\n",
      "12\n"
     ]
    }
   ],
   "source": [
    "print(int( \"123\"))## int(\"123\") 可將字串\"123\"轉換為整數 123\n",
    "print(int(78.9)) ##  int(78.9)得到整數 78( 去掉尾部小數)\n",
    "## reper( obj) ，將任意值轉為字串，常用於構造輸出字串\n",
    "x  =  10  * 3.25\n",
    "y  =   200   *  200\n",
    "s = 'The  value of  x  is ' + repr(x)+' and  y is' + repr(y)  + '...'\n",
    "print( s )\n",
    "print(round(78.3456,2)) ##使用 round(x,n) 可按\"四捨五入\"法對 x 保留 n 位小數\n",
    "print(len( \"Good morning\"))##使用 len(s) 計算字串的長度"
   ]
  },
  {
   "cell_type": "code",
   "execution_count": 16,
   "metadata": {},
   "outputs": [
    {
     "name": "stdout",
     "output_type": "stream",
     "text": [
      "3.141592653589793\n",
      "9.869604401089358\n",
      "26.423892221536985\n"
     ]
    }
   ],
   "source": [
    "import math##導入數學庫\n",
    "print(math.pi)##查看圓周率 π 常數\n",
    "print(math.pow(math.pi,2)) ##函數 pow(x,y) :求 x 的 y 次方\n",
    "##計算邊長為 8.3 和 10.58，兩邊夾角為 37.的三角形的面積的運算式為\n",
    "print(8.3  * 10.58 * math.sin(37.0/180  *  math.pi)/2)"
   ]
  },
  {
   "cell_type": "code",
   "execution_count": 17,
   "metadata": {},
   "outputs": [
    {
     "name": "stdout",
     "output_type": "stream",
     "text": [
      "5.0\n"
     ]
    }
   ],
   "source": [
    "from  math  import sqrt  #引入數學庫中的 sqrt 函數\n",
    "print(sqrt(25))"
   ]
  },
  {
   "cell_type": "code",
   "execution_count": null,
   "metadata": {
    "collapsed": true
   },
   "outputs": [],
   "source": []
  }
 ],
 "metadata": {
  "kernelspec": {
   "display_name": "Python 3",
   "language": "python",
   "name": "python3"
  },
  "language_info": {
   "codemirror_mode": {
    "name": "ipython",
    "version": 3
   },
   "file_extension": ".py",
   "mimetype": "text/x-python",
   "name": "python",
   "nbconvert_exporter": "python",
   "pygments_lexer": "ipython3",
   "version": "3.6.1"
  }
 },
 "nbformat": 4,
 "nbformat_minor": 2
}
