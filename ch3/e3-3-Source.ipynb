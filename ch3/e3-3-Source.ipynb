{
 "cells": [
  {
   "cell_type": "code",
   "execution_count": 1,
   "metadata": {
    "collapsed": true
   },
   "outputs": [
    {
     "name": "stdout",
     "output_type": "stream",
     "text": [
      "hello\n",
      "hello\n",
      "\"hello\" \n"
     ]
    }
   ],
   "source": [
    "print(\"hello\")\n",
    "print('hello')\n",
    "print('\\\"hello\\\" ')"
   ]
  },
  {
   "cell_type": "code",
   "execution_count": 2,
   "metadata": {
    "collapsed": true
   },
   "outputs": [
    {
     "name": "stdout",
     "output_type": "stream",
     "text": [
      "hello everyone\n",
      "today is a great day! \n"
     ]
    }
   ],
   "source": [
    "print( \"hello everyone\\ntoday is a great day! \")"
   ]
  },
  {
   "cell_type": "code",
   "execution_count": 3,
   "metadata": {
    "collapsed": true
   },
   "outputs": [
    {
     "name": "stdout",
     "output_type": "stream",
     "text": [
      "hello\n"
     ]
    }
   ],
   "source": [
    "s = \"hello\"\n",
    "print(s)"
   ]
  },
  {
   "cell_type": "code",
   "execution_count": 4,
   "metadata": {
    "collapsed": true
   },
   "outputs": [
    {
     "name": "stdout",
     "output_type": "stream",
     "text": [
      "Taipei\n"
     ]
    }
   ],
   "source": [
    "print('Tai'+ 'pei')"
   ]
  },
  {
   "cell_type": "code",
   "execution_count": 5,
   "metadata": {
    "collapsed": true
   },
   "outputs": [
    {
     "name": "stdout",
     "output_type": "stream",
     "text": [
      "hi hi hi hi hi \n",
      "hihihi\n"
     ]
    }
   ],
   "source": [
    "print(\"hi \"* 5)\n",
    "s = \"hi\"\n",
    "t= s  * 3\n",
    "print( t)"
   ]
  },
  {
   "cell_type": "code",
   "execution_count": 6,
   "metadata": {
    "collapsed": true
   },
   "outputs": [
    {
     "name": "stdout",
     "output_type": "stream",
     "text": [
      "n\n",
      "h\n",
      "n\n",
      "!\n"
     ]
    }
   ],
   "source": [
    "print(\"Student\"[ 5 ])\n",
    "s = \"hello python!\"\n",
    "print(s[0])\n",
    "i= 10\n",
    "print(s[ i + 1])\n",
    "print(s[ -1])"
   ]
  },
  {
   "cell_type": "code",
   "execution_count": 7,
   "metadata": {
    "collapsed": true
   },
   "outputs": [
    {
     "name": "stdout",
     "output_type": "stream",
     "text": [
      "he\n",
      "ll\n",
      "he\n",
      "llo python!\n"
     ]
    }
   ],
   "source": [
    "s = \"hello python!\"\n",
    "print(s[ 0 :2])\n",
    "print(s[2:4])\n",
    "print(s[ :2] )#前面的兩個字元\n",
    "print(s[2:])\t#除了開始 2 個字元的所有字元"
   ]
  },
  {
   "cell_type": "code",
   "execution_count": 8,
   "metadata": {
    "collapsed": true
   },
   "outputs": [
    {
     "name": "stdout",
     "output_type": "stream",
     "text": [
      "True\n",
      "False\n"
     ]
    }
   ],
   "source": [
    "s = \"hello python!\"\n",
    "print('py'  in s)\n",
    "t = 'the'\n",
    "print(t in s)"
   ]
  },
  {
   "cell_type": "code",
   "execution_count": 9,
   "metadata": {
    "collapsed": true
   },
   "outputs": [
    {
     "name": "stdout",
     "output_type": "stream",
     "text": [
      "   \thello Python\n",
      "hello Python\n"
     ]
    }
   ],
   "source": [
    "s='   \thello Python'\n",
    "t = s. strip()\n",
    "print(s)\n",
    "print(t)"
   ]
  },
  {
   "cell_type": "code",
   "execution_count": 10,
   "metadata": {
    "collapsed": true
   },
   "outputs": [
    {
     "name": "stdout",
     "output_type": "stream",
     "text": [
      " hello Python\n",
      " hello Python\n",
      " hello,Python\n",
      " hello,Python\n"
     ]
    }
   ],
   "source": [
    "a = [\" hello\" ,\"Python\" ]#a為一個包含兩個字串的串列\n",
    "b = \" \" .  join(a) #將a中的兩個字串連接，並以空格相連，賦值給b\n",
    "print(b)\n",
    "b. split( )\n",
    "print(b)\n",
    "c =\",\". join(a)\n",
    "print(c)\n",
    "c. split( ',')\n",
    "print(c)"
   ]
  },
  {
   "cell_type": "code",
   "execution_count": null,
   "metadata": {
    "scrolled": false
   },
   "outputs": [],
   "source": []
  }
 ],
 "metadata": {
  "kernelspec": {
   "display_name": "Python 3",
   "language": "python",
   "name": "python3"
  },
  "language_info": {
   "codemirror_mode": {
    "name": "ipython",
    "version": 3
   },
   "file_extension": ".py",
   "mimetype": "text/x-python",
   "name": "python",
   "nbconvert_exporter": "python",
   "pygments_lexer": "ipython3",
   "version": "3.6.1"
  }
 },
 "nbformat": 4,
 "nbformat_minor": 2
}
