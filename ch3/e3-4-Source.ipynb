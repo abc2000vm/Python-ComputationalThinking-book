{
 "cells": [
  {
   "cell_type": "code",
   "execution_count": 1,
   "metadata": {
    "collapsed": true
   },
   "outputs": [
    {
     "name": "stdout",
     "output_type": "stream",
     "text": [
      "\n",
      "101030311245\n"
     ]
    }
   ],
   "source": [
    "s1 = str()\n",
    "print(s1)\n",
    "s2 = str( 101030311245)\n",
    "print(s2)"
   ]
  },
  {
   "cell_type": "code",
   "execution_count": 2,
   "metadata": {
    "collapsed": true
   },
   "outputs": [
    {
     "name": "stdout",
     "output_type": "stream",
     "text": [
      "(1, 2, 3)\n",
      "(1, 2, 3)\n",
      "('east', 'south', 'west', 'north')\n",
      "('0010110', '張山', 'men', 18)\n",
      "()\n",
      "(23, (5, 8, 6), 18, 6)\n",
      "((1, 2, 3), ('east', 'south', 'west', 'north'), ('0010110', '張山', 'men', 18), (), (23, (5, 8, 6), 18, 6))\n"
     ]
    }
   ],
   "source": [
    "t = 1,2 ,3\n",
    "print(t)\n",
    "t1 = (1,2 ,3)\n",
    "print(t1)\n",
    "#資料項目可以是相同類型的，也可以是不同類型的。\n",
    "t2 = \"east\" ,\"south\" ,\"west\" ,\"north\"\n",
    "print(t2)\n",
    "t3= \"0010110\",\"張山\",\"men\" ,18\n",
    "print(t3)\n",
    "#可以定義空的元組，也可以定義巢狀的元組。\n",
    "t4 = ()\n",
    "print(t4)\n",
    "t5 = 23,(5,8,6) ,18,6\n",
    "print(t5)\n",
    "t6 = t1,t2 ,t3,t4 ,t5\n",
    "print(t6)"
   ]
  },
  {
   "cell_type": "code",
   "execution_count": 3,
   "metadata": {
    "collapsed": true
   },
   "outputs": [
    {
     "name": "stdout",
     "output_type": "stream",
     "text": [
      "()\n",
      "('P', 'y', 't', 'h', 'o', 'n')\n"
     ]
    }
   ],
   "source": [
    "t7 = tuple( )\n",
    "print(t7)\n",
    "#將一個字串轉化為元組。\n",
    "t7 = tuple( 'Python')\n",
    "print(t7)"
   ]
  },
  {
   "cell_type": "code",
   "execution_count": 4,
   "metadata": {
    "collapsed": true
   },
   "outputs": [
    {
     "name": "stdout",
     "output_type": "stream",
     "text": [
      "('0010110', '張山', 'men', 18)\n",
      "0010110\n"
     ]
    },
    {
     "ename": "TypeError",
     "evalue": "'tuple' object does not support item assignment",
     "output_type": "error",
     "traceback": [
      "\u001b[1;31m---------------------------------------------------------------------------\u001b[0m",
      "\u001b[1;31mTypeError\u001b[0m                                 Traceback (most recent call last)",
      "\u001b[1;32m<ipython-input-4-1f13564b7cf8>\u001b[0m in \u001b[0;36m<module>\u001b[1;34m()\u001b[0m\n\u001b[0;32m      1\u001b[0m \u001b[0mprint\u001b[0m\u001b[1;33m(\u001b[0m\u001b[0mt6\u001b[0m\u001b[1;33m[\u001b[0m\u001b[1;36m2\u001b[0m\u001b[1;33m]\u001b[0m\u001b[1;33m)\u001b[0m\u001b[1;33m\u001b[0m\u001b[0m\n\u001b[0;32m      2\u001b[0m \u001b[0mprint\u001b[0m\u001b[1;33m(\u001b[0m\u001b[0mt6\u001b[0m\u001b[1;33m[\u001b[0m\u001b[1;36m2\u001b[0m\u001b[1;33m]\u001b[0m\u001b[1;33m[\u001b[0m\u001b[1;36m0\u001b[0m\u001b[1;33m]\u001b[0m\u001b[1;33m)\u001b[0m\u001b[1;33m\u001b[0m\u001b[0m\n\u001b[1;32m----> 3\u001b[1;33m \u001b[0mt6\u001b[0m\u001b[1;33m[\u001b[0m\u001b[1;36m2\u001b[0m\u001b[1;33m]\u001b[0m \u001b[1;33m=\u001b[0m \u001b[0mt2\u001b[0m\u001b[1;33m\u001b[0m\u001b[0m\n\u001b[0m",
      "\u001b[1;31mTypeError\u001b[0m: 'tuple' object does not support item assignment"
     ]
    }
   ],
   "source": [
    "print(t6[2])\n",
    "print(t6[2][0])\n",
    "t6[2] = t2"
   ]
  },
  {
   "cell_type": "code",
   "execution_count": 5,
   "metadata": {
    "collapsed": true
   },
   "outputs": [
    {
     "name": "stdout",
     "output_type": "stream",
     "text": [
      "['one', 'two', 'Three', 'four', 'five']\n",
      "[[1, 2], [3, 4], [5, 6]]\n",
      "['apple', True, 185, 'ball', False, 165, 'car', True, 176]\n",
      "[[], [], []]\n",
      "[]\n"
     ]
    }
   ],
   "source": [
    "L1 = [\"one\",\"two\",\"Three\",\"four\",\"five\"] #:由 5 個字串構成的串列\n",
    "L2= [[1,2],[3,4],[5,6]] #由 3 個串列構成的巢狀串列\n",
    "L3= [\"apple\",True,185,\"ball\",False,165,\"car\",True,176]     #混合類型的串列\n",
    "L4 = [[ ] ,[ ],[ ]]\t#巢狀空串列的串列\n",
    "L5= [] #生成空的串列\n",
    "print(L1)\n",
    "print(L2)\n",
    "print(L3)\n",
    "print(L4)\n",
    "print(L5)"
   ]
  },
  {
   "cell_type": "code",
   "execution_count": 6,
   "metadata": {
    "collapsed": true
   },
   "outputs": [
    {
     "name": "stdout",
     "output_type": "stream",
     "text": [
      "[]\n",
      "['P', 'y', 'h', 't', 'o', 'n']\n",
      "['he', 'her', 'here']\n"
     ]
    }
   ],
   "source": [
    "L5= list()#生成空的串列，與 L5 = []功能相同\n",
    "L6 = list( 'Pyhton') #將一個字串物件轉化為串列\n",
    "L7 = list( ('he','her','here')) #將一個元組轉化為串列\n",
    "print(L5)\n",
    "print(L6)\n",
    "print(L7)"
   ]
  },
  {
   "cell_type": "code",
   "execution_count": 7,
   "metadata": {
    "collapsed": true
   },
   "outputs": [
    {
     "name": "stdout",
     "output_type": "stream",
     "text": [
      "two\n",
      "6\n"
     ]
    }
   ],
   "source": [
    "L1 = [\"one\",\"two\",\"three\",\"four\",\"five\"] #:由 5 個字串構成的串列\n",
    "L2= [[1,2],[3,4],[5,6]] #由 3 個串列構成的巢狀串列\n",
    "print(L1[1])\n",
    "print(L2[2][1])"
   ]
  },
  {
   "cell_type": "code",
   "execution_count": 8,
   "metadata": {
    "collapsed": true
   },
   "outputs": [
    {
     "name": "stdout",
     "output_type": "stream",
     "text": [
      "[[1, 2], [3, 4], 5]\n",
      "[[20, 2], [3, 4], 5]\n"
     ]
    }
   ],
   "source": [
    "L2[2] = 5\n",
    "print(L2)\n",
    "L2[0][0] = L2[0][1] * 10\n",
    "print(L2)"
   ]
  },
  {
   "cell_type": "code",
   "execution_count": 9,
   "metadata": {
    "collapsed": true
   },
   "outputs": [
    {
     "name": "stdout",
     "output_type": "stream",
     "text": [
      "[[20, 2], [3, 4], 5, 7, 8]\n",
      "[[20, 2], [3, 4], 5, 7, 8, [9, 10]]\n"
     ]
    }
   ],
   "source": [
    "L2 = L2 + [7,8] #將兩個串列的表項聯接為一個串列\n",
    "print(L2)\n",
    "L2 = L2 + [[ 9,10]]\n",
    "print(L2)"
   ]
  },
  {
   "cell_type": "code",
   "execution_count": 10,
   "metadata": {
    "collapsed": true
   },
   "outputs": [
    {
     "name": "stdout",
     "output_type": "stream",
     "text": [
      "[[20, 2], [3, 4], 5, 6, 7, 8, [9, 10]]\n"
     ]
    }
   ],
   "source": [
    "L2 [ 3 :3] = [6] #3:3 表示下標為 3 的位置，在此位置插入串列表項 6\n",
    "print(L2)"
   ]
  },
  {
   "cell_type": "code",
   "execution_count": 11,
   "metadata": {
    "collapsed": true
   },
   "outputs": [
    {
     "name": "stdout",
     "output_type": "stream",
     "text": [
      "[[20, 2], [3, 4], [9, 10]]\n"
     ]
    }
   ],
   "source": [
    "L2[2 :6] = []#使用 L2 中 2~5 的表項，將子序列通過設定操作更改為空序列\n",
    "print(L2)"
   ]
  },
  {
   "cell_type": "code",
   "execution_count": 12,
   "metadata": {
    "collapsed": true
   },
   "outputs": [
    {
     "name": "stdout",
     "output_type": "stream",
     "text": [
      "[[20, 2], [3, 4], [5, 6], [7, 8], [9, 10]]\n"
     ]
    }
   ],
   "source": [
    "L2[2:2] = [[ 5,6],[7,8]]\n",
    "print(L2)"
   ]
  },
  {
   "cell_type": "code",
   "execution_count": 13,
   "metadata": {
    "collapsed": true
   },
   "outputs": [
    {
     "data": {
      "text/plain": [
       "5"
      ]
     },
     "execution_count": 13,
     "metadata": {},
     "output_type": "execute_result"
    }
   ],
   "source": [
    "len(L2)"
   ]
  },
  {
   "cell_type": "code",
   "execution_count": 14,
   "metadata": {
    "collapsed": true
   },
   "outputs": [
    {
     "name": "stdout",
     "output_type": "stream",
     "text": [
      "False\n",
      "True\n",
      "False\n",
      "True\n"
     ]
    }
   ],
   "source": [
    "print( 'wanger' in L3)\n",
    "print(t2 in t6)\n",
    "print(7 in L2)\n",
    "print( [7,8] in L2)"
   ]
  },
  {
   "cell_type": "code",
   "execution_count": 15,
   "metadata": {
    "collapsed": true
   },
   "outputs": [
    {
     "name": "stdout",
     "output_type": "stream",
     "text": [
      "[271, 151, 78, 92, 83, 134, 357, 421, 210, 88, 92, 135]\n",
      "[271, 151, 78, 92, 83, 134, 357, 425, 210, 88, 92, 135]\n",
      "8\n",
      "[78, 83, 88, 92, 92, 134, 135, 151, 210, 271, 357, 425]\n",
      "8 7 1\n"
     ]
    }
   ],
   "source": [
    "t = []#初始化串列\n",
    "t.append( 271) #增加 1 月份的用電量\n",
    "t. extend ([151, 78,92,83,134,357,421,210,88,92,135 ]) #批量增加 2 -12 月份的用電量\n",
    "print(t)\n",
    "#修改 8 月份的用電量 421 為 425 \n",
    "t.remove(421)\n",
    "t.insert( 7,425)\n",
    "print(t)\n",
    "#求用電量最高的月份 maxm。\n",
    "maxm = t. index( max(t)) + 1\n",
    "print(maxm)\n",
    "#按用電量從低到高排序。\n",
    "s = t.copy( )\n",
    "s.sort()\n",
    "print(s)\n",
    "#找出用電量最高的三個月。\n",
    "s.reverse()\n",
    "m1,m2,m3 = t. index( s[ 0]) + 1,t. index( s[ 1]) + 1,t. index( s[ 2]) + 1\n",
    "print( m1,m2,m3)"
   ]
  },
  {
   "cell_type": "code",
   "execution_count": 16,
   "metadata": {
    "collapsed": true
   },
   "outputs": [
    {
     "name": "stdout",
     "output_type": "stream",
     "text": [
      "<class 'set'>\n",
      "{2, 4, 6, 8, 10}\n",
      "{'hello'}\n"
     ]
    }
   ],
   "source": [
    "s1 = {2 ,4 ,6,8,10}\n",
    "print( type( s1))\n",
    "print(s1)\n",
    "s2 = { 'hello'}\n",
    "print(s2)"
   ]
  },
  {
   "cell_type": "code",
   "execution_count": 17,
   "metadata": {
    "collapsed": true
   },
   "outputs": [
    {
     "name": "stdout",
     "output_type": "stream",
     "text": [
      "{'e', 'o', 'l', 'h'}\n",
      "{'here', 'he', 'hello', 'her'}\n"
     ]
    }
   ],
   "source": [
    "s3 = set( 'hello')\n",
    "print(s3) \n",
    "s5 = set(['he','hello','her','here'])\n",
    "print(s5)"
   ]
  },
  {
   "cell_type": "code",
   "execution_count": 18,
   "metadata": {
    "collapsed": true
   },
   "outputs": [
    {
     "name": "stdout",
     "output_type": "stream",
     "text": [
      "{1, 2, 3, 4}\n",
      "[1, 2, 3, 4]\n"
     ]
    }
   ],
   "source": [
    "L1   =   [1,2,3,4 ,1,2 ,3,4]\n",
    "s4 = set(L1)\n",
    "print(s4)\n",
    "L2 = list(s4)\n",
    "print(L2)"
   ]
  },
  {
   "cell_type": "code",
   "execution_count": 19,
   "metadata": {
    "collapsed": true
   },
   "outputs": [
    {
     "name": "stdout",
     "output_type": "stream",
     "text": [
      "[1, 2, 3, 4]\n"
     ]
    }
   ],
   "source": [
    "L2= list( set( L1))\n",
    "print(L2)"
   ]
  },
  {
   "cell_type": "code",
   "execution_count": 20,
   "metadata": {
    "collapsed": true
   },
   "outputs": [
    {
     "name": "stdout",
     "output_type": "stream",
     "text": [
      "frozenset({'FRI', 'SUN', 'SAT', 'THU', 'TUE', 'WED', 'MON'})\n"
     ]
    }
   ],
   "source": [
    "s6 = frozenset( ( 'MON' ,'TUE','WED' ,'THU''','FRI' ,'SAT','SUN'))\n",
    "print(s6)"
   ]
  },
  {
   "cell_type": "code",
   "execution_count": 21,
   "metadata": {
    "collapsed": true
   },
   "outputs": [
    {
     "name": "stdout",
     "output_type": "stream",
     "text": [
      "{'hello'}\n",
      "{'here', 'he', 'hello', 'her'}\n",
      "True\n",
      "True\n",
      "{'hen', 'hello', 'height', 'her'}\n",
      "{'hello', 'her'}\n",
      "{'her', 'hello', 'here', 'height', 'hen', 'he'}\n",
      "{'hen', 'height'}\n",
      "{'here', 'height', 'hen', 'he'}\n"
     ]
    }
   ],
   "source": [
    "print(s2)\n",
    "print(s5)\n",
    "print(s2<= s5) #判斷 s2 是否是 s5 的子集\n",
    "print(s5 > s2) #判斷 s5 是否是 s2 的真超集合\n",
    "s7 = {'hen','height','her'} #建立新的集合 s7 ，做以下操作。\n",
    "s7|=s2 #將 s2 併入s7\n",
    "print(s7)\n",
    "print(s7&s5) #求 s7 和 s5 的交集\n",
    "print(s7|s5)#求 s7 和 s5 的聯集\n",
    "print(s7 - s5)#求 s7 中去除 s5 中有的元素\n",
    "print(s7^s5) #求 s7  和 s5 的中各不相同的元素"
   ]
  },
  {
   "cell_type": "code",
   "execution_count": 22,
   "metadata": {
    "collapsed": true
   },
   "outputs": [
    {
     "name": "stdout",
     "output_type": "stream",
     "text": [
      "{'here', 'he', 'hello', 'her'}\n",
      "{'here', 'he', 'hello', 'her'}\n",
      "False\n"
     ]
    }
   ],
   "source": [
    "s8 = { 'he' ,'hello' ,'her' ,'here'}\n",
    "print(s8)\n",
    "print(s5)\n",
    "print(s5 == s7)"
   ]
  },
  {
   "cell_type": "code",
   "execution_count": 23,
   "metadata": {
    "collapsed": true
   },
   "outputs": [
    {
     "name": "stdout",
     "output_type": "stream",
     "text": [
      "{'here', 'he', 'hello', 'her'}\n",
      "frozenset({'FRI', 'SUN', 'SAT', 'THU', 'TUE', 'WED', 'MON'})\n",
      "frozenset({'FRI', 'SUN', 'hello', 'SAT', 'here', 'THU', 'TUE', 'WED', 'MON', 'he', 'her'})\n",
      "{'FRI', 'SUN', 'WED', 'her', 'hello', 'SAT', 'here', 'THU', 'TUE', 'MON', 'he'}\n",
      "{'here', 'he', 'hello', 'her'}\n",
      "{'FRI', 'SUN', 'SAT', 'THU', 'TUE', 'WED', 'MON'}\n"
     ]
    }
   ],
   "source": [
    "print(s5) #set 物件\n",
    "print(s6)  #   frozenset 物件\n",
    "s9 = s6. union( s5)    #frozenset 物件呼叫 union 得到 frozenset 物件\n",
    "print(s9)\n",
    "s10 = s5. union( s6) # set 物件呼叫 union 得到 set 物件\n",
    "print(s10)\n",
    "print(s5) #呼叫 union 產生新物件，原物件不變\n",
    "s10 = s10.difference(s5) #返回 s10 和 s5 的差集,產生一個新物件,再賦值給 s10\n",
    "print(s10)"
   ]
  },
  {
   "cell_type": "code",
   "execution_count": 24,
   "metadata": {
    "collapsed": true
   },
   "outputs": [
    {
     "name": "stdout",
     "output_type": "stream",
     "text": [
      "frozenset({1, 'FRI', 2, 'SUN', 3, 'SAT', 'THU', 'TUE', 'WED', 'MON'})\n",
      "True\n",
      "True\n"
     ]
    },
    {
     "ename": "TypeError",
     "evalue": "'int' object is not iterable",
     "output_type": "error",
     "traceback": [
      "\u001b[1;31m---------------------------------------------------------------------------\u001b[0m",
      "\u001b[1;31mTypeError\u001b[0m                                 Traceback (most recent call last)",
      "\u001b[1;32m<ipython-input-24-eae1bac982e3>\u001b[0m in \u001b[0;36m<module>\u001b[1;34m()\u001b[0m\n\u001b[0;32m      6\u001b[0m \u001b[0mprint\u001b[0m\u001b[1;33m(\u001b[0m\u001b[0ms11\u001b[0m\u001b[1;33m.\u001b[0m\u001b[0missuperset\u001b[0m\u001b[1;33m(\u001b[0m \u001b[1;33m[\u001b[0m\u001b[1;33m]\u001b[0m\u001b[1;33m)\u001b[0m\u001b[1;33m)\u001b[0m\u001b[1;33m\u001b[0m\u001b[0m\n\u001b[0;32m      7\u001b[0m \u001b[1;31m##判斷 1 是否在 sl1集合中不能用 int 類型，要用串列類型或集合類型\u001b[0m\u001b[1;33m\u001b[0m\u001b[1;33m\u001b[0m\u001b[0m\n\u001b[1;32m----> 8\u001b[1;33m \u001b[0ms11\u001b[0m\u001b[1;33m.\u001b[0m\u001b[0missuperset\u001b[0m\u001b[1;33m(\u001b[0m\u001b[1;36m1\u001b[0m\u001b[1;33m)\u001b[0m\u001b[1;33m\u001b[0m\u001b[0m\n\u001b[0m\u001b[0;32m      9\u001b[0m \u001b[0ms11\u001b[0m\u001b[1;33m.\u001b[0m\u001b[0missuperset\u001b[0m\u001b[1;33m(\u001b[0m\u001b[1;36m1\u001b[0m\u001b[1;33m)\u001b[0m\u001b[1;33m\u001b[0m\u001b[0m\n",
      "\u001b[1;31mTypeError\u001b[0m: 'int' object is not iterable"
     ]
    }
   ],
   "source": [
    "##將一個串列與集合 s6 聯合\n",
    "L1 = [1,2,3]\n",
    "s11 = s6. union(L1)\n",
    "print(s11)\n",
    "print(s11.issuperset( {1}) )\n",
    "print(s11.issuperset( []))\n",
    "##判斷 1 是否在 sl1集合中不能用 int 類型，要用串列類型或集合類型\n",
    "s11.issuperset(1)\n",
    "s11.issuperset(1)"
   ]
  },
  {
   "cell_type": "code",
   "execution_count": 25,
   "metadata": {
    "collapsed": true
   },
   "outputs": [
    {
     "name": "stdout",
     "output_type": "stream",
     "text": [
      "{1, 3, 4, 5, 7, 9}\n",
      "{1, 3, 4, 5}\n",
      "{2}\n",
      "{9, 7}\n",
      "{8, 10, 6}\n"
     ]
    }
   ],
   "source": [
    "#建立集合 s2 表示第一小隊隊員序號 ，s3 表示第二小隊隊員序號。\n",
    "s2  = {1,2,3,4,5}\n",
    "s3 = {6,7,8,9,10}\n",
    "#使用投票資料建立集合 sl ,集合去重複後表示獲得了選票的隊員序號。\n",
    "sl = {1,5,9 ,3,9,1,1,7,5,7,7 ,3,3,3,1,5,7 ,4 ,4 ,5,4 ,9 ,5,5,9}\n",
    "print(sl) \n",
    "print(sl- s3)#第一小隊獲得選票的隊員有\n",
    "print(s2 - (sl- s3)) #第一小隊沒有獲得選票的隊員有\n",
    "print(sl- s2)#第二小隊獲得選票的隊員有\n",
    "print(s3 - (sl- s2)) #第二小隊沒有獲得選票的隊員有"
   ]
  },
  {
   "cell_type": "code",
   "execution_count": 26,
   "metadata": {
    "collapsed": true
   },
   "outputs": [
    {
     "name": "stdout",
     "output_type": "stream",
     "text": [
      "{0: 'SUN', 1: 'MON', 2: 'TUE', 3: 'WED', 4: 'THU', 5: 'FRI', 6: 'SAT'}\n"
     ]
    }
   ],
   "source": [
    "d1 = {0: 'SUN',1: 'MON',2: 'TUE' ,3: 'WED' ,4: 'THU',5: 'FRI' ,6: 'SAT'}\n",
    "print(d1)"
   ]
  },
  {
   "cell_type": "code",
   "execution_count": 27,
   "metadata": {
    "collapsed": true
   },
   "outputs": [
    {
     "name": "stdout",
     "output_type": "stream",
     "text": [
      "{'test': {'mytest': 10}}\n"
     ]
    }
   ],
   "source": [
    "test = {\"test\":{\"mytest\" :10} }\n",
    "print(test)"
   ]
  },
  {
   "cell_type": "code",
   "execution_count": 28,
   "metadata": {
    "collapsed": true
   },
   "outputs": [
    {
     "name": "stdout",
     "output_type": "stream",
     "text": [
      "{'Jan': 31, 'Feb': 28, 'Mar': 31, 'Apr': 30, 'May': 31, 'Jun': 30, 'Jul': 31, 'Aug': 31, 'Sep': 30, 'Oct': 31, 'Nov': 30, 'Dec': 31}\n"
     ]
    }
   ],
   "source": [
    "monthdays  =  dict(  Jan  = 31 ,Feb = 28 ,Mar = 31,Apr = 30 ,May = 31,Jun = 30 ,Jul = 31 ,Aug=31,Sep=30,Oct=31,Nov= 30 ,Dec= 31  )\n",
    "print(monthdays)"
   ]
  },
  {
   "cell_type": "code",
   "execution_count": 29,
   "metadata": {
    "collapsed": true
   },
   "outputs": [
    {
     "name": "stdout",
     "output_type": "stream",
     "text": [
      "{'a0': 'SUN', 'a1': 'MON', 'a2': 'TUE\" ,a3 = ‘WED', 'a4': 'THU', 'a5': 'FRI', 'a6': 'SAT'}\n"
     ]
    }
   ],
   "source": [
    "weekday = dict(a0= 'SUN',a1 = 'MON' ,a2 = 'TUE\" ,a3 = ‘WED' ,a4 = 'THU' ,a5 = 'FRI' ,a6 = 'SAT')\n",
    "print(weekday)\n",
    "#weekday = dict(0 = 'SUN',1 = 'MON' ,2  = 'TUE' ,3  = ,’WED' ,4  =’THU',5 = 'FRI' ,6  = 'SAT' )"
   ]
  },
  {
   "cell_type": "code",
   "execution_count": 30,
   "metadata": {
    "collapsed": true
   },
   "outputs": [
    {
     "name": "stdout",
     "output_type": "stream",
     "text": [
      "31\n"
     ]
    },
    {
     "ename": "KeyError",
     "evalue": "'Jau'",
     "output_type": "error",
     "traceback": [
      "\u001b[1;31m---------------------------------------------------------------------------\u001b[0m",
      "\u001b[1;31mKeyError\u001b[0m                                  Traceback (most recent call last)",
      "\u001b[1;32m<ipython-input-30-17539ec63f5e>\u001b[0m in \u001b[0;36m<module>\u001b[1;34m()\u001b[0m\n\u001b[0;32m      1\u001b[0m \u001b[0mprint\u001b[0m\u001b[1;33m(\u001b[0m\u001b[0mmonthdays\u001b[0m\u001b[1;33m[\u001b[0m\u001b[1;34m\"Jan\"\u001b[0m\u001b[1;33m]\u001b[0m\u001b[1;33m)\u001b[0m\u001b[1;33m\u001b[0m\u001b[0m\n\u001b[1;32m----> 2\u001b[1;33m \u001b[0mprint\u001b[0m\u001b[1;33m(\u001b[0m\u001b[0mmonthdays\u001b[0m\u001b[1;33m[\u001b[0m \u001b[1;34m\"Jau\"\u001b[0m\u001b[1;33m]\u001b[0m\u001b[1;33m)\u001b[0m\u001b[1;33m\u001b[0m\u001b[0m\n\u001b[0m",
      "\u001b[1;31mKeyError\u001b[0m: 'Jau'"
     ]
    }
   ],
   "source": [
    "print(monthdays[\"Jan\"])\n",
    "print(monthdays[ \"Jau\"])"
   ]
  },
  {
   "cell_type": "code",
   "execution_count": 31,
   "metadata": {
    "collapsed": true
   },
   "outputs": [
    {
     "name": "stdout",
     "output_type": "stream",
     "text": [
      "{'Jan': 30, 'Feb': 28, 'Mar': 31, 'Apr': 30, 'May': 31, 'Jun': 30, 'Jul': 31, 'Aug': 31, 'Sep': 30, 'Oct': 31, 'Nov': 30, 'Dec': 31}\n"
     ]
    }
   ],
   "source": [
    "monthdays[\"Jan\"] = 30\n",
    "print(monthdays)"
   ]
  },
  {
   "cell_type": "code",
   "execution_count": 32,
   "metadata": {
    "collapsed": true
   },
   "outputs": [
    {
     "name": "stdout",
     "output_type": "stream",
     "text": [
      "{'Jan': 30, 'Feb': 28, 'Mar': 31, 'Apr': 30, 'May': 31, 'Jun': 30, 'Jul': 31, 'Aug': 31, 'Sep': 30, 'Oct': 31, 'Nov': 30, 'Dec': 31, 'test': 30}\n"
     ]
    }
   ],
   "source": [
    "monthdays[ \"test\"] = 30\n",
    "print(monthdays)"
   ]
  },
  {
   "cell_type": "code",
   "execution_count": 33,
   "metadata": {
    "collapsed": true
   },
   "outputs": [
    {
     "name": "stdout",
     "output_type": "stream",
     "text": [
      "{'Jan': 30, 'Feb': 28, 'Mar': 31, 'Apr': 30, 'May': 31, 'Jun': 30, 'Jul': 31, 'Aug': 31, 'Sep': 30, 'Oct': 31, 'Nov': 30, 'Dec': 31}\n"
     ]
    }
   ],
   "source": [
    "del  monthdays[ \"test\"]\n",
    "print(monthdays)"
   ]
  },
  {
   "cell_type": "code",
   "execution_count": 34,
   "metadata": {
    "collapsed": true
   },
   "outputs": [
    {
     "name": "stdout",
     "output_type": "stream",
     "text": [
      "{(3, 1): 3, (3, 2): 6, (3, 3): 9, (3, 4): 12, (3, 5.0): 15, (3, 6): 18, (3, 7): 21, (3, 8): 24, (3, 9): 27}\n",
      "27\n"
     ]
    }
   ],
   "source": [
    "d1 = {(3,1) :3,(3,2) :6,(3,3) :9,(3,4) :12,(3,5.) :15,(3,6) :18,(3,7) :21,(3,8) :24,(3,9) :27}\n",
    "print(d1)\n",
    "print(d1[(3,9)])"
   ]
  },
  {
   "cell_type": "code",
   "execution_count": 35,
   "metadata": {
    "collapsed": true
   },
   "outputs": [
    {
     "name": "stdout",
     "output_type": "stream",
     "text": [
      "{85: 'Apple', 74: 'Ball', 92: 'Car', 88: 'Donkey', 63: 'Horse'}\n",
      "[85, 74, 92, 88, 63]\n",
      "[92, 88, 85, 74, 63]\n",
      "['Car', 'Donkey', 'Apple', 'Ball', 'Horse']\n"
     ]
    }
   ],
   "source": [
    "scores = {85 :\"Apple\",74:\"Ball\",92:\"Car\",88:\"Donkey\",63:\"Horse\"} \n",
    "print(scores)\n",
    "L1 = list (scores.keys())\n",
    "print(L1)\n",
    "L1.sort(reverse = True)\n",
    "print(L1)\n",
    "L2 = []\n",
    "L2.append(scores[L1[0]])\n",
    "L2.append(scores[L1[1]])\n",
    "L2.append(scores[L1[2]])\n",
    "L2.append(scores[L1[3]])\n",
    "L2.append(scores[L1[4]])\n",
    "print(L2)"
   ]
  },
  {
   "cell_type": "code",
   "execution_count": null,
   "metadata": {
    "scrolled": true
   },
   "outputs": [],
   "source": []
  }
 ],
 "metadata": {
  "celltoolbar": "Raw Cell Format",
  "kernelspec": {
   "display_name": "Python 3",
   "language": "python",
   "name": "python3"
  },
  "language_info": {
   "codemirror_mode": {
    "name": "ipython",
    "version": 3
   },
   "file_extension": ".py",
   "mimetype": "text/x-python",
   "name": "python",
   "nbconvert_exporter": "python",
   "pygments_lexer": "ipython3",
   "version": "3.6.1"
  }
 },
 "nbformat": 4,
 "nbformat_minor": 2
}
