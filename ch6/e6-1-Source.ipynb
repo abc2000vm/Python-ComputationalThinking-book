{
 "cells": [
  {
   "cell_type": "code",
   "execution_count": 1,
   "metadata": {
    "collapsed": true
   },
   "outputs": [
    {
     "name": "stdout",
     "output_type": "stream",
     "text": [
      "請輸入一個整數：34\n",
      "34\n"
     ]
    }
   ],
   "source": [
    "data=input('請輸入一個整數：') \n",
    "print(data)"
   ]
  },
  {
   "cell_type": "code",
   "execution_count": 2,
   "metadata": {
    "collapsed": true
   },
   "outputs": [
    {
     "name": "stdout",
     "output_type": "stream",
     "text": [
      "請輸入一個整數：34\n",
      "34\n"
     ]
    }
   ],
   "source": [
    "data=int(input('請輸入一個整數：'))\n",
    "print(data)"
   ]
  },
  {
   "cell_type": "code",
   "execution_count": 3,
   "metadata": {
    "collapsed": true
   },
   "outputs": [
    {
     "name": "stdout",
     "output_type": "stream",
     "text": [
      "請輸入一個時間(h:m:s):7:35:25\n",
      "7 35 25\n",
      "7 35 25\n"
     ]
    }
   ],
   "source": [
    "hour,minute,second = input('請輸入一個時間(h:m:s):').split(':') \n",
    "print(hour, minute, second)\n",
    "hour=int( hour)\n",
    "minute=int(minute) \n",
    "second=int( second) \n",
    "print(hour, minute, second) "
   ]
  },
  {
   "cell_type": "code",
   "execution_count": 4,
   "metadata": {
    "collapsed": true
   },
   "outputs": [
    {
     "name": "stdout",
     "output_type": "stream",
     "text": [
      "n=5\n",
      "78\n",
      "56\n",
      "31\n",
      "49\n",
      "67\n",
      "sum= 281\n"
     ]
    }
   ],
   "source": [
    "n=int(input('n='))\n",
    "s=0\n",
    "for i in range (1 ,n+1): \n",
    "    x=int( input())\n",
    "    s+=x\n",
    "print('sum=',s)"
   ]
  },
  {
   "cell_type": "code",
   "execution_count": 5,
   "metadata": {
    "collapsed": true
   },
   "outputs": [
    {
     "name": "stdout",
     "output_type": "stream",
     "text": [
      "請輸入一個整數,-1退出：78\n",
      "請輸入一個整數,-1退出：56\n",
      "請輸入一個整數,-1退出：31\n",
      "請輸入一個整數,-1退出：49\n",
      "請輸入一個整數,-1退出：67\n",
      "請輸入一個整數,-1退出：-1\n",
      "sum= 281\n"
     ]
    }
   ],
   "source": [
    "s=0\n",
    "x= int(input('請輸入一個整數,-1退出：')) \n",
    "while x!=-1:\n",
    "    s+=x\n",
    "    x= int(input('請輸入一個整數,-1退出：'))\n",
    "print('sum=',s)"
   ]
  },
  {
   "cell_type": "code",
   "execution_count": 6,
   "metadata": {
    "collapsed": true
   },
   "outputs": [
    {
     "name": "stdout",
     "output_type": "stream",
     "text": [
      "請輸入一個整數,-1退出78\n",
      "請輸入一個整數,-1退出56\n",
      "請輸入一個整數,-1退出31\n",
      "請輸入一個整數,-1退出49\n",
      "請輸入一個整數,-1退出67\n",
      "請輸入一個整數,-1退出-1\n",
      "n=  5\n",
      "sum=   281\n",
      "average =  56.2\n"
     ]
    }
   ],
   "source": [
    "a = []\n",
    "x =int( input('請輸入一個整數,-1退出'))\n",
    "while x!= -1:\n",
    "    a.append(x)\n",
    "    x=int( input('請輸入一個整數,-1退出'))\n",
    "s = sum(a)\n",
    "n= len(a) \n",
    "print('n= ',n) \n",
    "print( 'sum=  ',s)\n",
    "print( 'average = ',s/n)"
   ]
  },
  {
   "cell_type": "code",
   "execution_count": 7,
   "metadata": {
    "collapsed": true
   },
   "outputs": [
    {
     "name": "stdout",
     "output_type": "stream",
     "text": [
      "10 20 30\n"
     ]
    }
   ],
   "source": [
    "x,y,z=10,20,30\n",
    "print(x,y,z)"
   ]
  },
  {
   "cell_type": "code",
   "execution_count": 8,
   "metadata": {
    "collapsed": true
   },
   "outputs": [
    {
     "name": "stdout",
     "output_type": "stream",
     "text": [
      "2017 1 26\n",
      "2017/1/26\n"
     ]
    }
   ],
   "source": [
    "y,m,d = '2017-1-26'.split( '-')\n",
    "print(y,m,d) \n",
    "print(y,m,d,sep= '/')"
   ]
  },
  {
   "cell_type": "code",
   "execution_count": 9,
   "metadata": {
    "collapsed": true
   },
   "outputs": [
    {
     "name": "stdout",
     "output_type": "stream",
     "text": [
      "x+20 =  30\n"
     ]
    }
   ],
   "source": [
    "print('x+20 = ',x+20)"
   ]
  },
  {
   "cell_type": "code",
   "execution_count": 10,
   "metadata": {
    "collapsed": true
   },
   "outputs": [
    {
     "name": "stdout",
     "output_type": "stream",
     "text": [
      "x + 20 = 30\n"
     ]
    }
   ],
   "source": [
    "print( 'x + 20 = ' + repr(x + 20))"
   ]
  },
  {
   "cell_type": "code",
   "execution_count": 11,
   "metadata": {
    "collapsed": true
   },
   "outputs": [
    {
     "name": "stdout",
     "output_type": "stream",
     "text": [
      "2017-1-26\n"
     ]
    }
   ],
   "source": [
    "y,m,d= 2017,1,26\n",
    "print('%d-%d-%d'%(y,m,d))"
   ]
  },
  {
   "cell_type": "code",
   "execution_count": 12,
   "metadata": {
    "collapsed": true
   },
   "outputs": [
    {
     "name": "stdout",
     "output_type": "stream",
     "text": [
      "請輸入一個圓的半徑12.5\n",
      "半徑為  12.50 的圓的面積等於 490.87\n"
     ]
    }
   ],
   "source": [
    "import math\n",
    "radium = float(input(\"請輸入一個圓的半徑\"))\n",
    "area = math.pi *math.pow(radium,2)\n",
    "print('半徑為%7.2f 的圓的面積等於%7.2f' %(radium,area))"
   ]
  },
  {
   "cell_type": "code",
   "execution_count": null,
   "metadata": {},
   "outputs": [],
   "source": []
  }
 ],
 "metadata": {
  "kernelspec": {
   "display_name": "Python 3",
   "language": "python",
   "name": "python3"
  },
  "language_info": {
   "codemirror_mode": {
    "name": "ipython",
    "version": 3
   },
   "file_extension": ".py",
   "mimetype": "text/x-python",
   "name": "python",
   "nbconvert_exporter": "python",
   "pygments_lexer": "ipython3",
   "version": "3.6.1"
  }
 },
 "nbformat": 4,
 "nbformat_minor": 2
}
