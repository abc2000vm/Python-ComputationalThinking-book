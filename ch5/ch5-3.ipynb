{
 "cells": [
  {
   "cell_type": "code",
   "execution_count": 6,
   "metadata": {},
   "outputs": [
    {
     "name": "stdout",
     "output_type": "stream",
     "text": [
      "5\n",
      "0\n"
     ]
    }
   ],
   "source": [
    "f = open( 'test.txt', 'w+')\n",
    "f.write( '0123456789abcdef')\n",
    "f.seek(5) #定位到文件的第 6 個位元組\n",
    "print(f.read(1))\n",
    "f.seek(0) #定位到檔案的開始\n",
    "print(f.read(1))"
   ]
  },
  {
   "cell_type": "code",
   "execution_count": 8,
   "metadata": {},
   "outputs": [
    {
     "name": "stdout",
     "output_type": "stream",
     "text": [
      "34  78  47  787  84  25  69  25 58  67  52  77 12  67 325  33\n"
     ]
    }
   ],
   "source": [
    "f=open (\"data1.txt\")\n",
    "a= f.read()\n",
    "print(a)"
   ]
  },
  {
   "cell_type": "code",
   "execution_count": 9,
   "metadata": {},
   "outputs": [
    {
     "name": "stdout",
     "output_type": "stream",
     "text": [
      "['34', '78', '47', '787', '84', '25', '69', '25', '58', '67', '52', '77', '12', '67', '325', '33']\n"
     ]
    }
   ],
   "source": [
    "L1= a.split( )\n",
    "print(L1)"
   ]
  },
  {
   "cell_type": "code",
   "execution_count": 10,
   "metadata": {},
   "outputs": [
    {
     "name": "stdout",
     "output_type": "stream",
     "text": [
      "['34  78  47  787  84  25  69  25 58  67  52  77 12  67 325  33']\n"
     ]
    }
   ],
   "source": [
    "f.seek(0)\n",
    "a = f.readlines( )\n",
    "print(a)"
   ]
  },
  {
   "cell_type": "code",
   "execution_count": 12,
   "metadata": {},
   "outputs": [
    {
     "name": "stdout",
     "output_type": "stream",
     "text": [
      "['34', '78', '47', '787', '84', '25', '69', '25', '58', '67', '52', '77', '12', '67', '325', '33']\n"
     ]
    }
   ],
   "source": [
    "L1 = a[ 0].split()\n",
    "print(L1)\n",
    "f.close( )"
   ]
  },
  {
   "cell_type": "code",
   "execution_count": 13,
   "metadata": {},
   "outputs": [
    {
     "name": "stdout",
     "output_type": "stream",
     "text": [
      "[34, 78, 47, 787, 84, 25, 69, 25, 58, 67, 52, 77, 12, 67, 325, 33]\n"
     ]
    }
   ],
   "source": [
    "for i in range(0,len(L1)): \n",
    "    L1[ i] =int(L1[i])\n",
    "print(L1)"
   ]
  },
  {
   "cell_type": "code",
   "execution_count": null,
   "metadata": {
    "collapsed": true
   },
   "outputs": [],
   "source": []
  }
 ],
 "metadata": {
  "kernelspec": {
   "display_name": "Python 3",
   "language": "python",
   "name": "python3"
  },
  "language_info": {
   "codemirror_mode": {
    "name": "ipython",
    "version": 3
   },
   "file_extension": ".py",
   "mimetype": "text/x-python",
   "name": "python",
   "nbconvert_exporter": "python",
   "pygments_lexer": "ipython3",
   "version": "3.6.1"
  }
 },
 "nbformat": 4,
 "nbformat_minor": 2
}
